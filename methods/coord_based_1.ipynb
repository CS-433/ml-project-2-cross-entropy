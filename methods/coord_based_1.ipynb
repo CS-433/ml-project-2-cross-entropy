{
 "cells": [
  {
   "cell_type": "code",
   "execution_count": 1,
   "metadata": {},
   "outputs": [],
   "source": [
    "from data.dataset import Dataset\n",
    "from data.feature.coordinate import CoordinateFeaturizer\n",
    "from data.dataloader import DataLoader\n",
    "from methods.ridge_method import RidgeMethod\n",
    "\n",
    "import numpy as np"
   ]
  },
  {
   "cell_type": "code",
   "execution_count": 2,
   "metadata": {},
   "outputs": [],
   "source": [
    "featurizer = CoordinateFeaturizer()\n",
    "#trimer_dataset = Dataset.from_file('xe3_50.xyz', 3, featurizer)\n",
    "#energy_base = trimer_dataset[-1][1][0]\n",
    "dimer_dataset = Dataset.from_file('dataset/xe2_50.xyz', 1, featurizer)\n",
    "trimer_dataset = Dataset.from_file('dataset/xe3_50.xyz', 1, featurizer)\n",
    "rand_trimer_dataset = Dataset.from_file('dataset/xe3_dataset_dft.xyz', 1, featurizer)"
   ]
  },
  {
   "cell_type": "code",
   "execution_count": 3,
   "metadata": {},
   "outputs": [],
   "source": [
    "dimer_dataset.X = np.array([np.vstack([dimer_dataset.X[i], np.zeros(3)]) for i in range(len(dimer_dataset.X))])"
   ]
  },
  {
   "cell_type": "code",
   "execution_count": 4,
   "metadata": {},
   "outputs": [],
   "source": [
    "n_dimer_train = 40\n",
    "n_trimer_train = 40\n",
    "n_rand_trimer_train = 5000\n",
    "\n",
    "dimer_train, dimer_val = dimer_dataset.split(\n",
    "    [list(range(n_dimer_train)),\n",
    "     list(range(n_dimer_train, len(dimer_dataset)))])\n",
    "trimer_train, trimer_val = trimer_dataset.split(\n",
    "    [list(range(n_trimer_train)),\n",
    "     list(range(n_trimer_train, len(dimer_dataset)))])\n",
    "rand_trimer_train, rand_trimer_val = rand_trimer_dataset.split(\n",
    "    [list(range(n_rand_trimer_train)), \n",
    "     list(range(n_rand_trimer_train, len(rand_trimer_dataset)))])\n",
    "train = DataLoader([dimer_train, trimer_train, rand_trimer_train])\n",
    "val = DataLoader([dimer_val, trimer_val, rand_trimer_val])"
   ]
  },
  {
   "cell_type": "code",
   "execution_count": 5,
   "metadata": {},
   "outputs": [],
   "source": [
    "train.X = np.array([np.concatenate(coord) for coord in train.X])\n",
    "val.X = np.array([np.concatenate(coord) for coord in val.X])"
   ]
  },
  {
   "cell_type": "code",
   "execution_count": 6,
   "metadata": {},
   "outputs": [],
   "source": [
    "method = RidgeMethod(train)\n",
    "method.train()\n",
    "train_result = method.predict(train.X)\n",
    "val_result = method.predict(val.X)"
   ]
  },
  {
   "cell_type": "code",
   "execution_count": 7,
   "metadata": {},
   "outputs": [
    {
     "data": {
      "text/plain": [
       "array([[-611448.60854848],\n",
       "       [-611445.77769547],\n",
       "       [-611442.86645171],\n",
       "       ...,\n",
       "       [-613812.00019228],\n",
       "       [-613206.9638002 ],\n",
       "       [-611781.78924696]])"
      ]
     },
     "execution_count": 7,
     "metadata": {},
     "output_type": "execute_result"
    }
   ],
   "source": [
    "train_result"
   ]
  },
  {
   "cell_type": "markdown",
   "metadata": {},
   "source": [
    "# Train %RMSE"
   ]
  },
  {
   "cell_type": "code",
   "execution_count": 8,
   "metadata": {},
   "outputs": [],
   "source": [
    "rmse = np.sqrt(np.mean((train_result[:40] - train.y[:40])**2)) / np.std(train.y[:40])"
   ]
  },
  {
   "cell_type": "code",
   "execution_count": 9,
   "metadata": {},
   "outputs": [
    {
     "data": {
      "text/plain": [
       "8160324.6935197245"
      ]
     },
     "execution_count": 9,
     "metadata": {},
     "output_type": "execute_result"
    }
   ],
   "source": [
    "rmse"
   ]
  },
  {
   "cell_type": "code",
   "execution_count": 10,
   "metadata": {},
   "outputs": [],
   "source": [
    "rmse = np.sqrt(np.mean((train_result[40:80] - train.y[40:80])**2)) / np.std(train.y[40:80])"
   ]
  },
  {
   "cell_type": "code",
   "execution_count": 11,
   "metadata": {},
   "outputs": [
    {
     "data": {
      "text/plain": [
       "58925.83855497622"
      ]
     },
     "execution_count": 11,
     "metadata": {},
     "output_type": "execute_result"
    }
   ],
   "source": [
    "rmse"
   ]
  },
  {
   "cell_type": "code",
   "execution_count": 12,
   "metadata": {},
   "outputs": [],
   "source": [
    "rmse = np.sqrt(np.mean((train_result[80:] - train.y[80:])**2)) / np.std(train.y[80:])"
   ]
  },
  {
   "cell_type": "code",
   "execution_count": 13,
   "metadata": {},
   "outputs": [
    {
     "data": {
      "text/plain": [
       "2719.3506724142553"
      ]
     },
     "execution_count": 13,
     "metadata": {},
     "output_type": "execute_result"
    }
   ],
   "source": [
    "rmse"
   ]
  },
  {
   "cell_type": "markdown",
   "metadata": {},
   "source": [
    "# Val %RMSE"
   ]
  },
  {
   "cell_type": "code",
   "execution_count": 14,
   "metadata": {},
   "outputs": [],
   "source": [
    "rmse = np.sqrt(np.mean((val_result[:10] - val.y[:10])**2)) / np.std(train.y[:40])"
   ]
  },
  {
   "cell_type": "code",
   "execution_count": 15,
   "metadata": {},
   "outputs": [
    {
     "data": {
      "text/plain": [
       "8153519.821596638"
      ]
     },
     "execution_count": 15,
     "metadata": {},
     "output_type": "execute_result"
    }
   ],
   "source": [
    "rmse"
   ]
  },
  {
   "cell_type": "code",
   "execution_count": 16,
   "metadata": {},
   "outputs": [],
   "source": [
    "rmse = np.sqrt(np.mean((val_result[10:20] - val.y[10:20])**2)) / np.std(train.y[40:80])"
   ]
  },
  {
   "cell_type": "code",
   "execution_count": 17,
   "metadata": {},
   "outputs": [
    {
     "data": {
      "text/plain": [
       "152918.5096352947"
      ]
     },
     "execution_count": 17,
     "metadata": {},
     "output_type": "execute_result"
    }
   ],
   "source": [
    "rmse"
   ]
  },
  {
   "cell_type": "code",
   "execution_count": 18,
   "metadata": {},
   "outputs": [],
   "source": [
    "rmse = np.sqrt(np.mean((train_result[20:] - train.y[20:])**2)) / np.std(train.y[80:])"
   ]
  },
  {
   "cell_type": "code",
   "execution_count": 19,
   "metadata": {},
   "outputs": [
    {
     "data": {
      "text/plain": [
       "11185.853947792113"
      ]
     },
     "execution_count": 19,
     "metadata": {},
     "output_type": "execute_result"
    }
   ],
   "source": [
    "rmse"
   ]
  },
  {
   "cell_type": "code",
   "execution_count": null,
   "metadata": {},
   "outputs": [],
   "source": []
  }
 ],
 "metadata": {
  "kernelspec": {
   "display_name": "pj2",
   "language": "python",
   "name": "python3"
  },
  "language_info": {
   "codemirror_mode": {
    "name": "ipython",
    "version": 3
   },
   "file_extension": ".py",
   "mimetype": "text/x-python",
   "name": "python",
   "nbconvert_exporter": "python",
   "pygments_lexer": "ipython3",
   "version": "3.9.18"
  }
 },
 "nbformat": 4,
 "nbformat_minor": 2
}
