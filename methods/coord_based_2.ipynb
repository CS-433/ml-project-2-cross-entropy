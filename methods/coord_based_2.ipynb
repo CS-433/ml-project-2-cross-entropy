{
 "cells": [
  {
   "cell_type": "code",
   "execution_count": 1,
   "metadata": {},
   "outputs": [],
   "source": [
    "from data.dataset import Dataset\n",
    "from data.feature.coordinate import CoordinateFeaturizer\n",
    "from data.dataloader import DataLoader\n",
    "from methods.ridge_method import RidgeMethod\n",
    "\n",
    "import numpy as np"
   ]
  },
  {
   "cell_type": "code",
   "execution_count": 2,
   "metadata": {},
   "outputs": [],
   "source": [
    "from itertools import combinations"
   ]
  },
  {
   "cell_type": "code",
   "execution_count": 3,
   "metadata": {},
   "outputs": [],
   "source": [
    "featurizer = CoordinateFeaturizer()\n",
    "#trimer_dataset = Dataset.from_file('xe3_50.xyz', 3, featurizer)\n",
    "#energy_base = trimer_dataset[-1][1][0]\n",
    "dimer_dataset = Dataset.from_file('dataset/xe2_50.xyz', 1, featurizer)\n",
    "trimer_dataset = Dataset.from_file('dataset/xe3_50.xyz', 1, featurizer)\n",
    "rand_trimer_dataset = Dataset.from_file('dataset/xe3_dataset_dft.xyz', 1, featurizer)"
   ]
  },
  {
   "cell_type": "code",
   "execution_count": 4,
   "metadata": {},
   "outputs": [],
   "source": [
    "n_dimer_train = 40\n",
    "n_trimer_train = 40\n",
    "n_rand_trimer_train = 5000\n",
    "\n",
    "dimer_train, dimer_val = dimer_dataset.split(\n",
    "    [list(range(n_dimer_train)),\n",
    "     list(range(n_dimer_train, len(dimer_dataset)))])\n",
    "trimer_train, trimer_val = trimer_dataset.split(\n",
    "    [list(range(n_trimer_train)),\n",
    "     list(range(n_trimer_train, len(dimer_dataset)))])\n",
    "rand_trimer_train, rand_trimer_val = rand_trimer_dataset.split(\n",
    "    [list(range(n_rand_trimer_train)), \n",
    "     list(range(n_rand_trimer_train, len(rand_trimer_dataset)))])\n",
    "dimer_val = DataLoader([dimer_val])\n",
    "trimer_val = DataLoader([trimer_val])\n",
    "rand_trimer_val = DataLoader([rand_trimer_val])"
   ]
  },
  {
   "cell_type": "code",
   "execution_count": 5,
   "metadata": {},
   "outputs": [],
   "source": [
    "train_dimer = DataLoader([dimer_train])\n",
    "val_dimer = DataLoader([dimer_val])\n",
    "train_trimer = DataLoader([trimer_train, rand_trimer_train])\n",
    "val_trimer = DataLoader([trimer_val, rand_trimer_val])"
   ]
  },
  {
   "cell_type": "code",
   "execution_count": 6,
   "metadata": {},
   "outputs": [],
   "source": [
    "train_dimer.X = np.array([np.concatenate(dimer) for dimer in train_dimer.X])\n",
    "method_dimer = RidgeMethod(train_dimer)\n",
    "method_dimer.train()\n",
    "for i in range(len(train_trimer.X)):\n",
    "    train_trimer.y[i] -= np.sum(method_dimer.predict(\n",
    "        [np.concatenate(list(pair)) for pair in combinations(train_trimer.X[i], 2)]))\n",
    "train_trimer.X = np.array([np.concatenate(trimer) for trimer in train_trimer.X])\n",
    "method_trimer = RidgeMethod(train_trimer)\n",
    "method_trimer.train()"
   ]
  },
  {
   "cell_type": "code",
   "execution_count": 7,
   "metadata": {},
   "outputs": [],
   "source": [
    "train_dimer = DataLoader([dimer_train])\n",
    "val_dimer = DataLoader([dimer_val])\n",
    "train_trimer = DataLoader([trimer_train, rand_trimer_train])\n",
    "val_trimer = DataLoader([trimer_val, rand_trimer_val])"
   ]
  },
  {
   "cell_type": "markdown",
   "metadata": {},
   "source": [
    "# Train %RMSE"
   ]
  },
  {
   "cell_type": "code",
   "execution_count": 8,
   "metadata": {},
   "outputs": [],
   "source": [
    "result = np.zeros((1, len(dimer_train.X)))\n",
    "\n",
    "for i in range(len(dimer_train.X)):\n",
    "    result[0, i] += np.sum(method_dimer.predict(\n",
    "        [np.concatenate(list(pair)) for pair in combinations(dimer_train.X[i], 2)]))\n",
    "rmse = np.sqrt(np.mean((result - dimer_train.y)**2)) / np.std(dimer_train.y)"
   ]
  },
  {
   "cell_type": "code",
   "execution_count": 9,
   "metadata": {},
   "outputs": [
    {
     "data": {
      "text/plain": [
       "1.0051882704311188"
      ]
     },
     "execution_count": 9,
     "metadata": {},
     "output_type": "execute_result"
    }
   ],
   "source": [
    "rmse"
   ]
  },
  {
   "cell_type": "code",
   "execution_count": 10,
   "metadata": {},
   "outputs": [],
   "source": [
    "result = np.zeros((1, len(trimer_train.X)))\n",
    "\n",
    "for i in range(len(trimer_train.X)):\n",
    "    result[0, i] += np.sum(method_dimer.predict(\n",
    "        [np.concatenate(list(pair)) for pair in combinations(trimer_train.X[i], 2)]))\n",
    "trimer_train.X = np.array([np.concatenate(trimer) for trimer in trimer_train.X])\n",
    "result += method_trimer.predict(trimer_train.X).T\n",
    "\n",
    "rmse = np.sqrt(np.mean((result - trimer_train.y)**2)) / np.std(train_trimer.y[:40])"
   ]
  },
  {
   "cell_type": "code",
   "execution_count": 11,
   "metadata": {},
   "outputs": [
    {
     "data": {
      "text/plain": [
       "21.737807064896135"
      ]
     },
     "execution_count": 11,
     "metadata": {},
     "output_type": "execute_result"
    }
   ],
   "source": [
    "rmse"
   ]
  },
  {
   "cell_type": "code",
   "execution_count": 12,
   "metadata": {},
   "outputs": [],
   "source": [
    "result = np.zeros((1, len(rand_trimer_train.X)))\n",
    "\n",
    "for i in range(len(trimer_val.X)):\n",
    "    result[0, i] += np.sum(method_dimer.predict(\n",
    "        [np.concatenate(list(pair)) for pair in combinations(rand_trimer_train.X[i], 2)]))\n",
    "rand_trimer_train.X = np.array([np.concatenate(trimer) for trimer in rand_trimer_train.X])\n",
    "result += method_trimer.predict(rand_trimer_train.X).T\n",
    "\n",
    "rmse = np.sqrt(np.mean((result - rand_trimer_train.y)**2)) / np.std(train_trimer.y[40:])"
   ]
  },
  {
   "cell_type": "code",
   "execution_count": 13,
   "metadata": {},
   "outputs": [
    {
     "data": {
      "text/plain": [
       "1067282.135641071"
      ]
     },
     "execution_count": 13,
     "metadata": {},
     "output_type": "execute_result"
    }
   ],
   "source": [
    "rmse"
   ]
  },
  {
   "cell_type": "markdown",
   "metadata": {},
   "source": [
    "# Val %RMSE"
   ]
  },
  {
   "cell_type": "code",
   "execution_count": 14,
   "metadata": {},
   "outputs": [],
   "source": [
    "result = np.zeros((1, len(dimer_val.X)))\n",
    "\n",
    "for i in range(len(dimer_val.X)):\n",
    "    result[0, i] += np.sum(method_dimer.predict(\n",
    "        [np.concatenate(list(pair)) for pair in combinations(dimer_val.X[i], 2)]))\n",
    "rmse = np.sqrt(np.mean((result - dimer_val.y)**2)) / np.std(train_dimer.y)"
   ]
  },
  {
   "cell_type": "code",
   "execution_count": 15,
   "metadata": {},
   "outputs": [
    {
     "data": {
      "text/plain": [
       "0.24686048159676532"
      ]
     },
     "execution_count": 15,
     "metadata": {},
     "output_type": "execute_result"
    }
   ],
   "source": [
    "rmse"
   ]
  },
  {
   "cell_type": "code",
   "execution_count": 16,
   "metadata": {},
   "outputs": [],
   "source": [
    "result = np.zeros((1, len(trimer_val.X)))\n",
    "\n",
    "for i in range(len(trimer_val.X)):\n",
    "    result[0, i] += np.sum(method_dimer.predict(\n",
    "        [np.concatenate(list(pair)) for pair in combinations(trimer_val.X[i], 2)]))\n",
    "trimer_val.X = np.array([np.concatenate(trimer) for trimer in trimer_val.X])\n",
    "result += method_trimer.predict(trimer_val.X).T\n",
    "\n",
    "rmse = np.sqrt(np.mean((result - trimer_val.y)**2)) / np.std(train_trimer.y[:40])"
   ]
  },
  {
   "cell_type": "code",
   "execution_count": 17,
   "metadata": {},
   "outputs": [
    {
     "data": {
      "text/plain": [
       "36.502844685312226"
      ]
     },
     "execution_count": 17,
     "metadata": {},
     "output_type": "execute_result"
    }
   ],
   "source": [
    "rmse"
   ]
  },
  {
   "cell_type": "code",
   "execution_count": 18,
   "metadata": {},
   "outputs": [],
   "source": [
    "result = np.zeros((1, len(rand_trimer_val.X)))\n",
    "\n",
    "for i in range(len(trimer_val.X)):\n",
    "    result[0, i] += np.sum(method_dimer.predict(\n",
    "        [np.concatenate(list(pair)) for pair in combinations(rand_trimer_val.X[i], 2)]))\n",
    "rand_trimer_val.X = np.array([np.concatenate(trimer) for trimer in rand_trimer_val.X])\n",
    "result += method_trimer.predict(rand_trimer_val.X).T\n",
    "\n",
    "rmse = np.sqrt(np.mean((result - rand_trimer_val.y)**2)) / np.std(train_trimer.y[40:])"
   ]
  },
  {
   "cell_type": "code",
   "execution_count": 19,
   "metadata": {},
   "outputs": [
    {
     "data": {
      "text/plain": [
       "1062995.817932185"
      ]
     },
     "execution_count": 19,
     "metadata": {},
     "output_type": "execute_result"
    }
   ],
   "source": [
    "rmse"
   ]
  },
  {
   "cell_type": "code",
   "execution_count": null,
   "metadata": {},
   "outputs": [],
   "source": []
  }
 ],
 "metadata": {
  "kernelspec": {
   "display_name": "pj2",
   "language": "python",
   "name": "python3"
  },
  "language_info": {
   "codemirror_mode": {
    "name": "ipython",
    "version": 3
   },
   "file_extension": ".py",
   "mimetype": "text/x-python",
   "name": "python",
   "nbconvert_exporter": "python",
   "pygments_lexer": "ipython3",
   "version": "3.9.18"
  }
 },
 "nbformat": 4,
 "nbformat_minor": 2
}
