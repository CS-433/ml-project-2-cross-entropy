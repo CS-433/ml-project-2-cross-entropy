{
 "cells": [
  {
   "cell_type": "code",
   "execution_count": null,
   "metadata": {},
   "outputs": [],
   "source": [
    "import os"
   ]
  },
  {
   "cell_type": "code",
   "execution_count": null,
   "metadata": {
    "ExecuteTime": {
     "end_time": "2023-12-14T15:03:10.437526Z",
     "start_time": "2023-12-14T15:03:09.360926Z"
    }
   },
   "outputs": [],
   "source": [
    "from data.dataset import Dataset\n",
    "from data.feature.descriptor import DescriptorFeaturizer\n",
    "from data.dataloader import DataLoader\n",
    "from methods.ridge_method import RidgeMethod\n",
    "from methods.bayesian_method import BayesianRidgeMethod\n",
    "from methods.decision_tree_method import DecisionTreeMethod\n",
    "from methods.elasticnet_method import ElasticNetMethod\n",
    "from methods.mlp_method import MlpMethod\n",
    "from methods.lasso_method import LassoMethod\n",
    "from methods.random_forest_method import RandomForestMethod\n",
    "from methods.knn_method import KnnMethod\n",
    "from methods.lasso_lars_method import LassoLarsMethod\n",
    "from methods.pca_method import PCAAnalysis\n",
    "\n",
    "import numpy as np\n",
    "from utils.visualize import visualize_energy"
   ]
  },
  {
   "cell_type": "code",
   "execution_count": null,
   "metadata": {},
   "outputs": [],
   "source": [
    "import pandas as pd"
   ]
  },
  {
   "cell_type": "code",
   "execution_count": null,
   "metadata": {},
   "outputs": [],
   "source": [
    "from methods.preprocessing.pca import PCAMethod\n",
    "from methods.preprocessing.shift import ShiftingMethod\n",
    "from methods.preprocessing.identity import IdentityMethod"
   ]
  },
  {
   "cell_type": "code",
   "execution_count": null,
   "metadata": {},
   "outputs": [],
   "source": [
    "def rmse(y_true, y_pred, y_train):\n",
    "    return np.sqrt(np.mean((y_true - y_pred) ** 2)) / np.std(y_train)"
   ]
  },
  {
   "cell_type": "code",
   "execution_count": null,
   "metadata": {},
   "outputs": [],
   "source": [
    "methods = [RidgeMethod, BayesianRidgeMethod, DecisionTreeMethod, ElasticNetMethod, LassoMethod, RandomForestMethod, KnnMethod, LassoLarsMethod]"
   ]
  },
  {
   "cell_type": "code",
   "execution_count": null,
   "metadata": {
    "ExecuteTime": {
     "end_time": "2023-12-14T15:03:10.439057Z",
     "start_time": "2023-12-14T15:03:10.438185Z"
    }
   },
   "outputs": [],
   "source": [
    "featurizer = DescriptorFeaturizer()\n",
    "#trimer_dataset = Dataset.from_file('xe3_50.xyz', 3, featurizer)\n",
    "#energy_base = trimer_dataset[-1][1][0]\n",
    "\n",
    "dimer_dataset = Dataset.from_file('dataset/xe2_50.xyz', 2, featurizer)\n",
    "trimer_dataset = Dataset.from_file('dataset/xe3_50.xyz', 3, featurizer)\n",
    "rand_trimer_dataset = Dataset.from_file('dataset/xe3_dataset_dft.xyz', 3, featurizer)"
   ]
  },
  {
   "cell_type": "code",
   "execution_count": null,
   "metadata": {},
   "outputs": [],
   "source": [
    "n_dimer_train = 40\n",
    "n_trimer_train = 40\n",
    "n_rand_trimer_train = 5000\n",
    "\n",
    "dimer_train, dimer_val = dimer_dataset.split(\n",
    "    [list(range(n_dimer_train)),\n",
    "     list(range(n_dimer_train, len(dimer_dataset)))])\n",
    "trimer_train, trimer_val = trimer_dataset.split(\n",
    "    [list(range(n_trimer_train)),\n",
    "     list(range(n_trimer_train, len(dimer_dataset)))])\n",
    "rand_trimer_train, rand_trimer_val = rand_trimer_dataset.split(\n",
    "    [list(range(n_rand_trimer_train)), \n",
    "     list(range(n_rand_trimer_train, len(rand_trimer_dataset)))])\n",
    "train = DataLoader([dimer_train, trimer_train, rand_trimer_train])\n",
    "val = DataLoader([dimer_val, trimer_val, rand_trimer_val])\n",
    "dimer_val = DataLoader([dimer_val])\n",
    "trimer_val = DataLoader([trimer_val])\n",
    "rand_trimer_val = DataLoader([rand_trimer_val])"
   ]
  },
  {
   "cell_type": "code",
   "execution_count": null,
   "metadata": {},
   "outputs": [],
   "source": [
    "pca = IdentityMethod()\n",
    "shift = IdentityMethod()#ShiftingMethod(-205862)"
   ]
  },
  {
   "cell_type": "code",
   "execution_count": null,
   "metadata": {},
   "outputs": [],
   "source": [
    "train = DataLoader([dimer_train, trimer_train, rand_trimer_train])\n",
    "val = DataLoader([dimer_val, trimer_val, rand_trimer_val])\n",
    "train.X = pca.fit_preprocess(train.X)\n",
    "train.y = shift.fit_preprocess(train.y)"
   ]
  },
  {
   "cell_type": "markdown",
   "metadata": {},
   "source": [
    "# Methods selection"
   ]
  },
  {
   "cell_type": "code",
   "execution_count": null,
   "metadata": {},
   "outputs": [],
   "source": [
    "data = pd.DataFrame(columns=['train%RMSE$_{dimer}$', 'train%RMSE$_{trimer}$', 'train%RMSE$_{rand_trimer}$', '%RMSE$_{dimer}$', '%RMSE$_{trimer}$', '%RMSE$_{rand_trimer}$'])\n",
    "\n",
    "for method in methods:\n",
    "    m = method(train)\n",
    "    m.train()\n",
    "    dimer_energy = shift.backward(m.predict(pca.preprocess(dimer_dataset.X))) * 2\n",
    "    trimer_energy = shift.backward(m.predict(pca.preprocess(trimer_dataset.X))) * 3\n",
    "    fig, ax = visualize_energy(dimer_dataset, dimer_energy - dimer_energy[-1], trimer_dataset, trimer_energy - trimer_energy[-1])\n",
    "    train_dimer_energy = shift.backward(m.predict(pca.preprocess(dimer_train.X))) * 2\n",
    "    train_trimer_energy = shift.backward(m.predict(pca.preprocess(trimer_train.X))) * 3\n",
    "    train_rand_trimer_energy = shift.backward(m.predict(pca.preprocess(rand_trimer_train.X))) * 3\n",
    "    val_dimer_energy = shift.backward(m.predict(pca.preprocess(dimer_val.X))) * 2\n",
    "    val_trimer_energy = shift.backward(m.predict(pca.preprocess(trimer_val.X))) * 3\n",
    "    val_rand_trimer_energy = shift.backward(m.predict(pca.preprocess(rand_trimer_val.X))) * 3\n",
    "    data.loc[method.__name__] = [\n",
    "        rmse(train_dimer_energy, dimer_train.y * 2, train.y[:n_dimer_train]), \n",
    "        rmse(train_trimer_energy, trimer_train.y * 3, train.y[50:50+n_trimer_train]), \n",
    "        rmse(train_rand_trimer_energy, rand_trimer_train.y * 3, train.y[100:100+n_rand_trimer_train]),\n",
    "        rmse(val_dimer_energy, dimer_val.y * 2, train.y[:n_dimer_train]), \n",
    "        rmse(val_trimer_energy, trimer_val.y * 3, train.y[50:50+n_trimer_train]), \n",
    "        rmse(val_rand_trimer_energy, rand_trimer_val.y * 3, train.y[100:100+n_rand_trimer_train])]\n",
    "    \n",
    "    ax[0].set_title(method.__name__)"
   ]
  },
  {
   "cell_type": "markdown",
   "metadata": {},
   "source": [
    "# MLP test"
   ]
  },
  {
   "cell_type": "code",
   "execution_count": null,
   "metadata": {},
   "outputs": [],
   "source": [
    "methods = [MlpMethod(dataloader=train, hidden=[128], dropout=0.1, wd=1e-2, batch_size=64, epochs=100, lr=0.005),\n",
    "           MlpMethod(dataloader=train, hidden=[128, 64], dropout=0.1, wd=1e-2, batch_size=64, epochs=100, lr=0.005)]"
   ]
  },
  {
   "cell_type": "code",
   "execution_count": null,
   "metadata": {},
   "outputs": [],
   "source": [
    "data = pd.DataFrame(columns=['train%RMSE$_{dimer}$', 'train%RMSE$_{trimer}$', 'train%RMSE$_{rand_trimer}$', '%RMSE$_{dimer}$', '%RMSE$_{trimer}$', '%RMSE$_{rand_trimer}$'])\n",
    "\n",
    "for n, method in zip(['MlpMethod1', 'MlpMethod2'],methods):\n",
    "    m = method#(train)\n",
    "    m.train()\n",
    "    dimer_energy = shift.backward(m.predict(pca.preprocess(dimer_dataset.X))) * 2\n",
    "    trimer_energy = shift.backward(m.predict(pca.preprocess(trimer_dataset.X))) * 3\n",
    "    fig, ax = visualize_energy(dimer_dataset, dimer_energy - dimer_energy[-1], trimer_dataset, trimer_energy - trimer_energy[-1])\n",
    "    train_dimer_energy = shift.backward(m.predict(pca.preprocess(dimer_train.X))) * 2\n",
    "    train_trimer_energy = shift.backward(m.predict(pca.preprocess(trimer_train.X))) * 3\n",
    "    train_rand_trimer_energy = shift.backward(m.predict(pca.preprocess(rand_trimer_train.X))) * 3\n",
    "    val_dimer_energy = shift.backward(m.predict(pca.preprocess(dimer_val.X))) * 2\n",
    "    val_trimer_energy = shift.backward(m.predict(pca.preprocess(trimer_val.X))) * 3\n",
    "    val_rand_trimer_energy = shift.backward(m.predict(pca.preprocess(rand_trimer_val.X))) * 3\n",
    "    data.loc[n] = [\n",
    "        rmse(train_dimer_energy, dimer_train.y * 2, train.y[:n_dimer_train]), \n",
    "        rmse(train_trimer_energy, trimer_train.y * 3, train.y[50:50+n_trimer_train]), \n",
    "        rmse(train_rand_trimer_energy, rand_trimer_train.y * 3, train.y[100:100+n_rand_trimer_train]),\n",
    "        rmse(val_dimer_energy, dimer_val.y * 2, train.y[:n_dimer_train]), \n",
    "        rmse(val_trimer_energy, trimer_val.y * 3, train.y[50:50+n_trimer_train]), \n",
    "        rmse(val_rand_trimer_energy, rand_trimer_val.y * 3, train.y[100:100+n_rand_trimer_train])]\n",
    "    \n",
    "    ax[0].set_title(n)"
   ]
  },
  {
   "cell_type": "markdown",
   "metadata": {},
   "source": [
    "# Ridge test"
   ]
  },
  {
   "cell_type": "code",
   "execution_count": null,
   "metadata": {},
   "outputs": [],
   "source": [
    "alphas = [np.geomspace(alpha, alpha, 1) for alpha in np.geomspace(1e-16, 1e2, 37)]"
   ]
  },
  {
   "cell_type": "code",
   "execution_count": null,
   "metadata": {},
   "outputs": [],
   "source": [
    "data = pd.DataFrame(columns=['%RMSE$_{dimer, train}$', '%RMSE$_{trimer, train}$', '%RMSE$_{rand\\_trimer, train}$', '%RMSE$_{dimer, val}$', '%RMSE$_{trimer, val}$', '%RMSE$_{rand\\_trimer, val}$'])\n",
    "\n",
    "for alpha in alphas:\n",
    "    m = RidgeMethod(train, alpha)\n",
    "    m.train()\n",
    "    dimer_energy = shift.backward(m.predict(pca.preprocess(dimer_dataset.X))) * 2\n",
    "    trimer_energy = shift.backward(m.predict(pca.preprocess(trimer_dataset.X))) * 3\n",
    "    fig, ax = visualize_energy(dimer_dataset, dimer_energy - dimer_energy[-1], trimer_dataset, trimer_energy - trimer_energy[-1])\n",
    "    train_dimer_energy = shift.backward(m.predict(pca.preprocess(dimer_train.X))) * 2\n",
    "    train_trimer_energy = shift.backward(m.predict(pca.preprocess(trimer_train.X))) * 3\n",
    "    train_rand_trimer_energy = shift.backward(m.predict(pca.preprocess(rand_trimer_train.X))) * 3\n",
    "    val_dimer_energy = shift.backward(m.predict(pca.preprocess(dimer_val.X))) * 2\n",
    "    val_trimer_energy = shift.backward(m.predict(pca.preprocess(trimer_val.X))) * 3\n",
    "    val_rand_trimer_energy = shift.backward(m.predict(pca.preprocess(rand_trimer_val.X))) * 3\n",
    "    data.loc[alpha[0]] = [\n",
    "        rmse(train_dimer_energy, dimer_train.y * 2, train.y[:n_dimer_train]), \n",
    "        rmse(train_trimer_energy, trimer_train.y * 3, train.y[50:50+n_trimer_train]), \n",
    "        rmse(train_rand_trimer_energy, rand_trimer_train.y * 3, train.y[100:100+n_rand_trimer_train]),\n",
    "        rmse(val_dimer_energy, dimer_val.y * 2, train.y[:n_dimer_train]), \n",
    "        rmse(val_trimer_energy, trimer_val.y * 3, train.y[50:50+n_trimer_train]), \n",
    "        rmse(val_rand_trimer_energy, rand_trimer_val.y * 3, train.y[100:100+n_rand_trimer_train])]\n",
    "    \n",
    "    ax[0].set_title(f'alpha = {alpha[0]}')"
   ]
  },
  {
   "cell_type": "code",
   "execution_count": null,
   "metadata": {},
   "outputs": [],
   "source": [
    "import matplotlib.pyplot as plt\n",
    "import seaborn as sns\n",
    "fig, ax = plt.subplots(dpi=200)\n",
    "ax.set(xscale=\"log\", yscale=\"log\")\n",
    "ax.set_title('Regularization Parameter Selection')\n",
    "ax.set_xlabel('$\\lambda$')\n",
    "ax.set_ylabel('%RMSE')\n",
    "ax.set_xticks(np.geomspace(1e-18, 1e2, 11))\n",
    "#ax.set_xticklabels(np.geomspace(1e-18, 1e2, 21))\n",
    "sns.lineplot(data=data)"
   ]
  },
  {
   "cell_type": "markdown",
   "metadata": {},
   "source": [
    "# RMSE result"
   ]
  },
  {
   "cell_type": "code",
   "execution_count": null,
   "metadata": {},
   "outputs": [],
   "source": [
    "data"
   ]
  },
  {
   "cell_type": "code",
   "execution_count": null,
   "metadata": {},
   "outputs": [],
   "source": []
  }
 ],
 "metadata": {
  "kernelspec": {
   "display_name": "pj2",
   "language": "python",
   "name": "python3"
  },
  "language_info": {
   "codemirror_mode": {
    "name": "ipython",
    "version": 3
   },
   "file_extension": ".py",
   "mimetype": "text/x-python",
   "name": "python",
   "nbconvert_exporter": "python",
   "pygments_lexer": "ipython3",
   "version": "3.9.18"
  }
 },
 "nbformat": 4,
 "nbformat_minor": 2
}
