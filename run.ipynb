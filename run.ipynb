{
 "cells": [
  {
   "cell_type": "code",
   "execution_count": 1,
   "metadata": {},
   "outputs": [],
   "source": [
    "import os"
   ]
  },
  {
   "cell_type": "code",
   "execution_count": 24,
   "metadata": {
    "ExecuteTime": {
     "end_time": "2023-12-14T15:03:10.437526Z",
     "start_time": "2023-12-14T15:03:09.360926Z"
    }
   },
   "outputs": [],
   "source": [
    "from data.dataset import Dataset\n",
    "from data.feature import Featurizer\n",
    "from data.dataloader import DataLoader\n",
    "from methods.ridge_method import RidgeMethod\n",
    "from methods.bayesian_method import BayesianRidgeMethod\n",
    "from methods.decision_tree_method import DecisionTreeMethod\n",
    "from methods.elasticnet_method import ElasticNetMethod\n",
    "from methods.mlp_method import MlpMethod\n",
    "from methods.lasso_method import LassoMethod\n",
    "from methods.random_forest_method import RandomForestMethod\n",
    "from methods.knn_method import KnnMethod\n",
    "from methods.lasso_lars_method import LassoLarsMethod\n",
    "from methods.pca_method import PCAAnalysis\n",
    "\n",
    "import numpy as np\n",
    "from visualize import visualize_energy"
   ]
  },
  {
   "cell_type": "code",
   "execution_count": 94,
   "metadata": {},
   "outputs": [],
   "source": [
    "from methods.preprocessing.pca import PCAMethod\n",
    "from methods.preprocessing.shift import ShiftingMethod"
   ]
  },
  {
   "cell_type": "code",
   "execution_count": 74,
   "metadata": {},
   "outputs": [],
   "source": [
    "methods = [RidgeMethod, BayesianRidgeMethod, DecisionTreeMethod, ElasticNetMethod, LassoMethod, RandomForestMethod, KnnMethod, LassoLarsMethod]"
   ]
  },
  {
   "cell_type": "code",
   "execution_count": 3,
   "metadata": {
    "ExecuteTime": {
     "end_time": "2023-12-14T15:03:10.439057Z",
     "start_time": "2023-12-14T15:03:10.438185Z"
    }
   },
   "outputs": [],
   "source": [
    "featurizer = Featurizer()\n",
    "#trimer_dataset = Dataset.from_file('xe3_50.xyz', 3, featurizer)\n",
    "#energy_base = trimer_dataset[-1][1][0]\n",
    "dimer_dataset = Dataset.from_file('dataset/xe2_50.xyz', 2, featurizer)\n",
    "trimer_dataset = Dataset.from_file('dataset/xe3_50.xyz', 3, featurizer)\n",
    "rand_trimer_dataset = Dataset.from_file('dataset/xe3_dataset_dft.xyz', 3, featurizer)"
   ]
  },
  {
   "cell_type": "code",
   "execution_count": 90,
   "metadata": {},
   "outputs": [],
   "source": [
    "dimer_train, dimer_val = dimer_dataset.split(\n",
    "    [list(range(40)),\n",
    "     list(range(40, 50))])\n",
    "trimer_train, trimer_val = trimer_dataset.split(\n",
    "    [list(range(40)),\n",
    "     list(range(40, 50))])\n",
    "rand_trimer_train, rand_trimer_val = rand_trimer_dataset.split(\n",
    "    [list(range(5000)), \n",
    "     list(range(5000, len(rand_trimer_dataset)))])\n",
    "train = DataLoader([dimer_train, trimer_train, rand_trimer_train])\n",
    "val = DataLoader([dimer_val, trimer_val, rand_trimer_val])"
   ]
  },
  {
   "cell_type": "code",
   "execution_count": 102,
   "metadata": {},
   "outputs": [],
   "source": [
    "pca = PCAMethod(20)\n",
    "shift = ShiftingMethod(-205862)"
   ]
  },
  {
   "cell_type": "code",
   "execution_count": 103,
   "metadata": {},
   "outputs": [],
   "source": [
    "train = DataLoader([dimer_train, trimer_train, rand_trimer_train])\n",
    "val = DataLoader([dimer_val, trimer_val, rand_trimer_val])\n",
    "train.X = pca.fit_preprocess(train.X)\n",
    "train.y = shift.fit_preprocess(train.y)"
   ]
  },
  {
   "cell_type": "code",
   "execution_count": 104,
   "metadata": {},
   "outputs": [
    {
     "name": "stderr",
     "output_type": "stream",
     "text": [
      "/home/qjxu/miniconda3/envs/pj2/lib/python3.9/site-packages/sklearn/utils/validation.py:1183: DataConversionWarning: A column-vector y was passed when a 1d array was expected. Please change the shape of y to (n_samples, ), for example using ravel().\n",
      "  y = column_or_1d(y, warn=True)\n",
      "/home/qjxu/miniconda3/envs/pj2/lib/python3.9/site-packages/sklearn/linear_model/_coordinate_descent.py:1563: DataConversionWarning: A column-vector y was passed when a 1d array was expected. Please change the shape of y to (n_samples, ), for example using ravel().\n",
      "  y = column_or_1d(y, warn=True)\n",
      "/home/qjxu/miniconda3/envs/pj2/lib/python3.9/site-packages/sklearn/linear_model/_coordinate_descent.py:1563: DataConversionWarning: A column-vector y was passed when a 1d array was expected. Please change the shape of y to (n_samples, ), for example using ravel().\n",
      "  y = column_or_1d(y, warn=True)\n",
      "/home/qjxu/miniconda3/envs/pj2/lib/python3.9/site-packages/sklearn/base.py:1152: DataConversionWarning: A column-vector y was passed when a 1d array was expected. Please change the shape of y to (n_samples,), for example using ravel().\n",
      "  return fit_method(estimator, *args, **kwargs)\n"
     ]
    }
   ],
   "source": [
    "for method in methods:\n",
    "    m = method(train)\n",
    "    m.train()\n",
    "    dimer_energy = shift.backward(m.predict(pca.preprocess(dimer_dataset.X))) * 2\n",
    "    trimer_energy = shift.backward(m.predict(pca.preprocess(trimer_dataset.X))) * 3\n",
    "    fig, ax = visualize_energy(dimer_dataset, dimer_energy - dimer_energy[-1], trimer_dataset, trimer_energy - trimer_energy[-1])\n",
    "    ax[0].set_title(method.__name__)"
   ]
  },
  {
   "cell_type": "code",
   "execution_count": null,
   "metadata": {},
   "outputs": [],
   "source": []
  }
 ],
 "metadata": {
  "kernelspec": {
   "display_name": "pj2",
   "language": "python",
   "name": "python3"
  },
  "language_info": {
   "codemirror_mode": {
    "name": "ipython",
    "version": 3
   },
   "file_extension": ".py",
   "mimetype": "text/x-python",
   "name": "python",
   "nbconvert_exporter": "python",
   "pygments_lexer": "ipython3",
   "version": "3.9.18"
  }
 },
 "nbformat": 4,
 "nbformat_minor": 2
}
